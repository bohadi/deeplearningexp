{
  "nbformat": 4,
  "nbformat_minor": 0,
  "metadata": {
    "kernelspec": {
      "name": "python3",
      "display_name": "Python 3"
    },
    "language_info": {
      "codemirror_mode": {
        "name": "ipython",
        "version": 3
      },
      "file_extension": ".py",
      "mimetype": "text/x-python",
      "name": "python",
      "nbconvert_exporter": "python",
      "pygments_lexer": "ipython3",
      "version": "3.6.10"
    },
    "colab": {
      "name": "torchconvnet.ipynb",
      "provenance": [],
      "collapsed_sections": []
    },
    "accelerator": "GPU"
  },
  "cells": [
    {
      "cell_type": "code",
      "metadata": {
        "colab_type": "code",
        "id": "JRXDMF-vYJDB",
        "colab": {
          "base_uri": "https://localhost:8080/",
          "height": 34
        },
        "outputId": "00527511-d557-40bb-d1bb-258914c53e8e"
      },
      "source": [
        "from __future__ import print_function\n",
        "\n",
        "%reload_ext autoreload\n",
        "%autoreload 2\n",
        "\n",
        "import numpy as np\n",
        "import matplotlib.pyplot as plt\n",
        "%matplotlib inline\n",
        "\n",
        "import torch\n",
        "import torch.nn as nn\n",
        "import torch.nn.functional as F\n",
        "import torch.optim as optim\n",
        "from torch.autograd import Variable\n",
        "from torchvision import datasets, transforms\n",
        "from torch.optim.lr_scheduler import StepLR\n",
        "\n",
        "print(torch.cuda.get_device_name(0))"
      ],
      "execution_count": 1,
      "outputs": [
        {
          "output_type": "stream",
          "text": [
            "Tesla P100-PCIE-16GB\n"
          ],
          "name": "stdout"
        }
      ]
    },
    {
      "cell_type": "code",
      "metadata": {
        "id": "o2nak6VN1cCy",
        "colab_type": "code",
        "colab": {}
      },
      "source": [
        "class MLP(nn.Module):\n",
        "    def __init__(self):\n",
        "        super(MLP, self).__init__()\n",
        "        self.fc1 = nn.Linear(784, 100) \n",
        "        self.relu = nn.ReLU()\n",
        "        self.fc2 = nn.Linear(100, 10)  \n",
        "    \n",
        "    def forward(self, x):\n",
        "        x = self.fc1(x)\n",
        "        x = self.relu(x)\n",
        "        x = self.fc2(x)\n",
        "        return x\n",
        "    "
      ],
      "execution_count": 0,
      "outputs": []
    },
    {
      "cell_type": "code",
      "metadata": {
        "id": "Y98QWN3ngimL",
        "colab_type": "code",
        "colab": {}
      },
      "source": [
        "class ConvNet(nn.Module):\n",
        "    def __init__(self):\n",
        "        super(ConvNet, self).__init__()\n",
        "        self.conv1 = nn.Conv2d(1, 32, 3, 1)\n",
        "        self.conv2 = nn.Conv2d(32, 64, 3, 1)\n",
        "        self.dropout1 = nn.Dropout2d(0.25)\n",
        "        self.fc1 = nn.Linear(9216, 128)\n",
        "        self.fc2 = nn.Linear(128, 10)\n",
        "\n",
        "    def forward(self, x):\n",
        "        x = self.conv1(x)\n",
        "        x = F.leaky_relu(x, 0.1)\n",
        "        x = self.conv2(x)\n",
        "        x = F.leaky_relu(x, 0.1)\n",
        "        x = F.max_pool2d(x, 2)\n",
        "        x = self.dropout1(x)\n",
        "        x = torch.flatten(x, 1)\n",
        "        x = self.fc1(x)\n",
        "        x = F.leaky_relu(x, 0.1)\n",
        "        output = F.log_softmax(x, dim=1)\n",
        "        return output\n"
      ],
      "execution_count": 0,
      "outputs": []
    },
    {
      "cell_type": "code",
      "metadata": {
        "id": "6LGgjkgg873f",
        "colab_type": "code",
        "colab": {}
      },
      "source": [
        "mlp = MLP().cuda()\n",
        "conv = ConvNet().cuda()\n",
        "\n",
        "# other mlp hyperparams\n",
        "mlr = 1e-3\n",
        "mepochs = 5\n",
        "# conv hyperparams\n",
        "clr = 0.1\n",
        "gamma = 0.8\n",
        "cepochs = 5"
      ],
      "execution_count": 0,
      "outputs": []
    },
    {
      "cell_type": "code",
      "metadata": {
        "id": "gJDcLdAIyEmn",
        "colab_type": "code",
        "colab": {}
      },
      "source": [
        "\n",
        "batch_size = 128\n",
        "test_batch_size = 1000\n",
        "log_interval = 100\n",
        "\n",
        "kwargs = {'num_workers': 1, 'pin_memory': True} if torch.cuda.is_available() else {}\n",
        "train_ds = datasets.MNIST('../data', train=True, download=True,\n",
        "             transform=transforms.Compose([\n",
        "               transforms.ToTensor(),\n",
        "               transforms.Normalize((0.1307,), (0.3081,))])\n",
        "           )\n",
        "train_loader = torch.utils.data.DataLoader(\n",
        "  train_ds, batch_size=batch_size, shuffle=True, **kwargs)\n",
        "test_ds = datasets.MNIST('../data', train=False,\n",
        "            transform=transforms.Compose([\n",
        "              transforms.ToTensor(),\n",
        "              transforms.Normalize((0.1307,), (0.3081,))])\n",
        "          )\n",
        "test_loader = torch.utils.data.DataLoader(\n",
        "  test_ds, batch_size=test_batch_size, shuffle=True, **kwargs)\n"
      ],
      "execution_count": 0,
      "outputs": []
    },
    {
      "cell_type": "code",
      "metadata": {
        "id": "WHmj6gbt9EHz",
        "colab_type": "code",
        "colab": {
          "base_uri": "https://localhost:8080/",
          "height": 374
        },
        "outputId": "ae4372ad-bac2-4dbb-b29d-5fceb6436e6c"
      },
      "source": [
        "# train and test MLP\n",
        "\n",
        "criterion = nn.CrossEntropyLoss()  \n",
        "optimizer = torch.optim.Adam(mlp.parameters(), lr=mlr)  \n",
        "\n",
        "mlp_hist = []\n",
        "mlp.train()\n",
        "for epoch in range(mepochs):\n",
        "    for i, (images, labels) in enumerate(train_loader):  \n",
        "        # Convert torch tensor to Variable\n",
        "        images = Variable(images.view(-1, 28*28)).cuda()\n",
        "        labels = Variable(labels).cuda()\n",
        "        \n",
        "        # forward + backward + optimize\n",
        "        optimizer.zero_grad()  # zero gradient buffer\n",
        "        outputs = mlp(images)\n",
        "        loss = criterion(outputs, labels)\n",
        "        mlp_hist.append(loss) # log for plotting\n",
        "        loss.backward()\n",
        "        optimizer.step()\n",
        "        \n",
        "        if (i+1) % log_interval == 0:\n",
        "            print ('Epoch [%d/%d], Step [%d/%d], Loss: %.4f' %\n",
        "                   (epoch+1, mepochs, i+1, len(train_ds)//batch_size, loss))\n",
        "\n",
        "mlp.eval()\n",
        "correct = 0\n",
        "total = 0\n",
        "with torch.no_grad():\n",
        "  for images, labels in test_loader:\n",
        "      images = Variable(images.view(-1, 28*28)).cuda()\n",
        "      outputs = mlp(images)\n",
        "      _, predicted = torch.max(outputs.data, 1)\n",
        "      total += labels.size(0)\n",
        "      correct += (predicted.cpu() == labels).sum()\n",
        "\n",
        "print('Accuracy of the network on the %d test images: %.2f %%' % (total, 100 * correct / total))\n"
      ],
      "execution_count": 6,
      "outputs": [
        {
          "output_type": "stream",
          "text": [
            "Epoch [1/5], Step [100/468], Loss: 0.3156\n",
            "Epoch [1/5], Step [200/468], Loss: 0.2321\n",
            "Epoch [1/5], Step [300/468], Loss: 0.1804\n",
            "Epoch [1/5], Step [400/468], Loss: 0.2397\n",
            "Epoch [2/5], Step [100/468], Loss: 0.1544\n",
            "Epoch [2/5], Step [200/468], Loss: 0.1679\n",
            "Epoch [2/5], Step [300/468], Loss: 0.1131\n",
            "Epoch [2/5], Step [400/468], Loss: 0.1875\n",
            "Epoch [3/5], Step [100/468], Loss: 0.0984\n",
            "Epoch [3/5], Step [200/468], Loss: 0.1072\n",
            "Epoch [3/5], Step [300/468], Loss: 0.0828\n",
            "Epoch [3/5], Step [400/468], Loss: 0.0662\n",
            "Epoch [4/5], Step [100/468], Loss: 0.1783\n",
            "Epoch [4/5], Step [200/468], Loss: 0.0629\n",
            "Epoch [4/5], Step [300/468], Loss: 0.2385\n",
            "Epoch [4/5], Step [400/468], Loss: 0.0460\n",
            "Epoch [5/5], Step [100/468], Loss: 0.0525\n",
            "Epoch [5/5], Step [200/468], Loss: 0.1394\n",
            "Epoch [5/5], Step [300/468], Loss: 0.0989\n",
            "Epoch [5/5], Step [400/468], Loss: 0.0304\n",
            "Accuracy of the network on the 10000 test images: 97.00 %\n"
          ],
          "name": "stdout"
        }
      ]
    },
    {
      "cell_type": "code",
      "metadata": {
        "id": "SdUqg4LyIZyH",
        "colab_type": "code",
        "colab": {
          "base_uri": "https://localhost:8080/",
          "height": 374
        },
        "outputId": "c5188807-8db0-445f-e72f-1ba9773b6871"
      },
      "source": [
        "# train and test ConvNet\n",
        "\n",
        "criterion = nn.CrossEntropyLoss()  \n",
        "optimizer = torch.optim.Adadelta(conv.parameters(), lr=clr)  \n",
        "scheduler = StepLR(optimizer, step_size=1, gamma=gamma)\n",
        "\n",
        "conv_hist = []\n",
        "conv.train()\n",
        "for epoch in range(cepochs):\n",
        "    for i, (images, labels) in enumerate(train_loader):  \n",
        "        images = images.cuda()\n",
        "        labels = labels.cuda()\n",
        "        # forward + backward + optimize\n",
        "        optimizer.zero_grad()  # zero gradient buffer\n",
        "        outputs = conv(images)\n",
        "        loss = criterion(outputs, labels)\n",
        "        conv_hist.append(loss) # log for plotting\n",
        "        loss.backward()\n",
        "        optimizer.step()\n",
        "        \n",
        "        if (i+1) % log_interval == 0:\n",
        "            print ('Epoch [%d/%d], Step [%d/%d], Loss: %.4f' %\n",
        "                   (epoch+1, cepochs, i+1, len(train_ds)//batch_size, loss))\n",
        "    scheduler.step()\n",
        "\n",
        "conv.eval()\n",
        "correct = 0\n",
        "total = 0\n",
        "with torch.no_grad():\n",
        "  for images, labels in test_loader:\n",
        "      images = images.cuda()\n",
        "      outputs = conv(images)\n",
        "      _, predicted = torch.max(outputs.data, 1)\n",
        "      total += labels.size(0)\n",
        "      correct += (predicted.cpu() == labels).sum()\n",
        "\n",
        "print('Accuracy of the network on the %d test images: %.2f %%' % (total, 100 * correct / total))"
      ],
      "execution_count": 31,
      "outputs": [
        {
          "output_type": "stream",
          "text": [
            "Epoch [1/5], Step [100/468], Loss: 0.0956\n",
            "Epoch [1/5], Step [200/468], Loss: 0.0130\n",
            "Epoch [1/5], Step [300/468], Loss: 0.0510\n",
            "Epoch [1/5], Step [400/468], Loss: 0.0396\n",
            "Epoch [2/5], Step [100/468], Loss: 0.0454\n",
            "Epoch [2/5], Step [200/468], Loss: 0.0294\n",
            "Epoch [2/5], Step [300/468], Loss: 0.0105\n",
            "Epoch [2/5], Step [400/468], Loss: 0.0526\n",
            "Epoch [3/5], Step [100/468], Loss: 0.0099\n",
            "Epoch [3/5], Step [200/468], Loss: 0.0822\n",
            "Epoch [3/5], Step [300/468], Loss: 0.0370\n",
            "Epoch [3/5], Step [400/468], Loss: 0.0911\n",
            "Epoch [4/5], Step [100/468], Loss: 0.0282\n",
            "Epoch [4/5], Step [200/468], Loss: 0.0354\n",
            "Epoch [4/5], Step [300/468], Loss: 0.0097\n",
            "Epoch [4/5], Step [400/468], Loss: 0.0120\n",
            "Epoch [5/5], Step [100/468], Loss: 0.0170\n",
            "Epoch [5/5], Step [200/468], Loss: 0.0303\n",
            "Epoch [5/5], Step [300/468], Loss: 0.0363\n",
            "Epoch [5/5], Step [400/468], Loss: 0.0457\n",
            "Accuracy of the network on the 10000 test images: 98.00 %\n"
          ],
          "name": "stdout"
        }
      ]
    },
    {
      "cell_type": "code",
      "metadata": {
        "id": "SQbVN4bv2nmY",
        "colab_type": "code",
        "colab": {
          "base_uri": "https://localhost:8080/",
          "height": 404
        },
        "outputId": "95c7b375-cf7b-4f64-c5f2-921d35d46eb0"
      },
      "source": [
        "\n",
        "mx = np.arange(1, len(mlp_hist) + 1)\n",
        "cx = np.arange(1, len(conv_hist) + 1)\n",
        "\n",
        "plt.figure(figsize=(8, 6))\n",
        "plt.plot(mx, mlp_hist, label=\"MLP Training Loss\")\n",
        "plt.plot(cx, conv_hist, label=\"ConvNet Training Loss\")\n",
        "plt.xlabel('Epoch x Batch')\n",
        "plt.ylabel('Loss')\n",
        "plt.legend(loc='upper right')\n",
        "plt.title(\"Evolution of the training loss\")\n",
        "plt.show()\n"
      ],
      "execution_count": 32,
      "outputs": [
        {
          "output_type": "display_data",
          "data": {
            "image/png": "[encoded data removed]",
            "text/plain": [
              "<Figure size 576x432 with 1 Axes>"
            ]
          },
          "metadata": {
            "tags": [],
            "needs_background": "light"
          }
        }
      ]
    }
  ]
}
