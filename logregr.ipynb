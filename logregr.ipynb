{
  "nbformat": 4,
  "nbformat_minor": 0,
  "metadata": {
    "colab": {
      "name": "logregr.ipynb",
      "provenance": [],
      "collapsed_sections": []
    },
    "kernelspec": {
      "name": "python3",
      "display_name": "Python 3"
    },
    "accelerator": "GPU"
  },
  "cells": [
    {
      "cell_type": "code",
      "metadata": {
        "id": "DHNnQr3S8nZ0",
        "colab_type": "code",
        "outputId": "851b0f1e-ecf7-4f3e-b445-a99ac609e3c8",
        "colab": {
          "base_uri": "https://localhost:8080/",
          "height": 1000
        }
      },
      "source": [
        "'''\n",
        "2020 清华大学 深度学习\n",
        "Bobak 隋若礼 2019280018\n",
        "binary logistic regression MNIST\n",
        "'''\n",
        "\n",
        "%tensorflow_version 2.x\n",
        "import tensorflow as tf\n",
        "import numpy as np\n",
        "import matplotlib.pyplot as plt\n",
        "# dont forget to reupload mnist_data_loader.py on each new colab runtime\n",
        "import mnist_data_loader\n",
        "\n",
        "# prediction step\n",
        "def sigmoid(X, W, b=0):\n",
        "  z = np.dot(X, W) + b\n",
        "  return 1 / (1 + np.exp(-z))\n",
        "\n",
        "# count the errors\n",
        "def classify(Z, Y):\n",
        "  YHAT = np.round(Z)\n",
        "  return np.count_nonzero(YHAT!=Y)\n",
        "\n",
        "# 2class cross-entropy\n",
        "def log_loss(Z, Y):\n",
        "  return -(Y*np.log(Z) + (1 - Y)*np.log(1 - Z)).mean()\n",
        "\n",
        "# gradient of loss wrt W\n",
        "def gradient(X, Z, Y, batch_size):\n",
        "  return np.dot((Z - Y), X) / batch_size\n",
        "\n",
        "# update weights w regularization\n",
        "def update(W, grad, alpha):\n",
        "  return W - alpha * grad\n",
        "\n",
        "# load data\n",
        "mnist_dataset = mnist_data_loader.read_data_sets(\"./MNIST_data/\", one_hot=False)\n",
        "train_set = mnist_dataset.train\n",
        "test_set = mnist_dataset.test\n",
        "image = train_set.images[0]\n",
        "print('\\nTraining dataset size: ', train_set.num_examples)\n",
        "# hyperparams\n",
        "batch_size = 100\n",
        "max_epoch = 100\n",
        "learning_rate = 1e-1\n",
        "# initialize W+b \n",
        "W = np.zeros(784)\n",
        "b = 0\n",
        "# training\n",
        "print('Training starting ||W||:', np.linalg.norm(W))\n",
        "accuracy = []\n",
        "for epoch in range(0, max_epoch):\n",
        "  iter_per_batch = train_set.num_examples // batch_size\n",
        "  errors = 0\n",
        "  for batch_id in range(0, iter_per_batch):\n",
        "    batch = train_set.next_batch(batch_size)\n",
        "    X, label = batch\n",
        "    Y = label/3 - 1\n",
        "    # prediction, accuracy, logloss, gradient, update\n",
        "    Z = sigmoid(X, W, b)\n",
        "    errors += classify(Z, Y)\n",
        "    loss = log_loss(Z, Y)\n",
        "    dedw = gradient(X, Z, Y, batch_size)\n",
        "    W = update(W, dedw, learning_rate)\n",
        "    if epoch == 0 and (batch_id < 10 or batch_id % 20 == 0):\n",
        "      print('\\tEpoch 0 Minibatch:', batch_id, 'Accuracy:', 1-(errors/(batch_size*(batch_id+1))))\n",
        "  accuracy.append(1 - (errors / (iter_per_batch*batch_size)))\n",
        "  if epoch % 10 == 0:\n",
        "    print('\\tEpoch', epoch, 'Accuracy:', 1-accuracy[-1])\n",
        "print('Training ending ||W||:', np.linalg.norm(W))\n",
        "plt.plot(accuracy)\n",
        "plt.title('model accuracy')\n",
        "plt.ylabel('accuracy')\n",
        "plt.xlabel('epoch')\n",
        "plt.show()\n",
        "print('\\nTesting model')\n",
        "# test set\n",
        "X,lbl = test_set.next_batch(test_set.num_examples)\n",
        "Y = lbl/3-1\n",
        "Z = sigmoid(X, W, b)\n",
        "# count and show incorrect examples\n",
        "err_idx = [i for (i,y) in enumerate(Y) if y!=np.round(Z)[i]]\n",
        "for i in err_idx[-3:-1]:\n",
        "  print('Example #', i, 'Expected', test_set.labels[i], 'Predicted', 3+3*int(np.round(Z)[i]))\n",
        "  plt.imshow(np.reshape(test_set.images[i],[28,28]),cmap='gray')\n",
        "  plt.show()\n",
        "print('\\nTest set error rate: ', len(err_idx), '/', test_set.num_examples, 'Accuracy:', 1-len(err_idx)/test_set.num_examples)"
      ],
      "execution_count": 3,
      "outputs": [
        {
          "output_type": "stream",
          "text": [
            "Extracting ./MNIST_data/train-images-idx3-ubyte.gz\n",
            "Extracting ./MNIST_data/train-labels-idx1-ubyte.gz\n",
            "Extracting ./MNIST_data/t10k-images-idx3-ubyte.gz\n",
            "Extracting ./MNIST_data/t10k-labels-idx1-ubyte.gz\n",
            "\n",
            "Training dataset size:  12049\n",
            "Training starting ||W||: 0.0\n",
            "\tEpoch 0 Minibatch: 0 Accuracy: 0.52\n",
            "\tEpoch 0 Minibatch: 1 Accuracy: 0.745\n",
            "\tEpoch 0 Minibatch: 2 Accuracy: 0.8166666666666667\n",
            "\tEpoch 0 Minibatch: 3 Accuracy: 0.86\n",
            "\tEpoch 0 Minibatch: 4 Accuracy: 0.884\n",
            "\tEpoch 0 Minibatch: 5 Accuracy: 0.9016666666666666\n",
            "\tEpoch 0 Minibatch: 6 Accuracy: 0.9128571428571428\n",
            "\tEpoch 0 Minibatch: 7 Accuracy: 0.9225\n",
            "\tEpoch 0 Minibatch: 8 Accuracy: 0.9277777777777778\n",
            "\tEpoch 0 Minibatch: 9 Accuracy: 0.933\n",
            "\tEpoch 0 Minibatch: 20 Accuracy: 0.96\n",
            "\tEpoch 0 Minibatch: 40 Accuracy: 0.968780487804878\n",
            "\tEpoch 0 Minibatch: 60 Accuracy: 0.9747540983606557\n",
            "\tEpoch 0 Minibatch: 80 Accuracy: 0.9776543209876544\n",
            "\tEpoch 0 Minibatch: 100 Accuracy: 0.9795049504950495\n",
            "\tEpoch 0 Accuracy: 0.019000000000000017\n",
            "\tEpoch 10 Accuracy: 0.006416666666666626\n",
            "\tEpoch 20 Accuracy: 0.004583333333333384\n",
            "\tEpoch 30 Accuracy: 0.0038333333333333552\n",
            "\tEpoch 40 Accuracy: 0.003249999999999975\n",
            "\tEpoch 50 Accuracy: 0.0028333333333333544\n",
            "\tEpoch 60 Accuracy: 0.002666666666666706\n",
            "\tEpoch 70 Accuracy: 0.0023333333333332984\n",
            "\tEpoch 80 Accuracy: 0.00216666666666665\n",
            "\tEpoch 90 Accuracy: 0.00216666666666665\n",
            "Training ending ||W||: 6.072716053487269\n"
          ],
          "name": "stdout"
        },
        {
          "output_type": "display_data",
          "data": {
            "image/png": "[encoded data removed]",
            "text/plain": [
              "<Figure size 432x288 with 1 Axes>"
            ]
          },
          "metadata": {
            "tags": []
          }
        },
        {
          "output_type": "stream",
          "text": [
            "\n",
            "Testing model\n",
            "Example # 986 Expected 3 Predicted 6\n"
          ],
          "name": "stdout"
        },
        {
          "output_type": "display_data",
          "data": {
            "image/png": "[encoded data removed]",
            "text/plain": [
              "<Figure size 432x288 with 1 Axes>"
            ]
          },
          "metadata": {
            "tags": []
          }
        },
        {
          "output_type": "stream",
          "text": [
            "Example # 1903 Expected 6 Predicted 3\n"
          ],
          "name": "stdout"
        },
        {
          "output_type": "display_data",
          "data": {
            "image/png": "[encoded data removed]",
            "text/plain": [
              "<Figure size 432x288 with 1 Axes>"
            ]
          },
          "metadata": {
            "tags": []
          }
        },
        {
          "output_type": "stream",
          "text": [
            "\n",
            "Test set error rate:  12 / 1968 Accuracy: 0.9939024390243902\n"
          ],
          "name": "stdout"
        }
      ]
    }
  ]
}
